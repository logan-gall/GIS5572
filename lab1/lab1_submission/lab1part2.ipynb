{
 "cells": [
  {
   "cell_type": "markdown",
   "metadata": {},
   "source": [
    "# LAB PART 2\n",
    "\n",
    "These cells create a polygon WKT and then a database connection creating a new table and inputting data."
   ]
  },
  {
   "cell_type": "code",
   "execution_count": 2,
   "metadata": {},
   "outputs": [
    {
     "data": {
      "text/plain": [
       "'MULTIPOLYGON (((-93.2650146484375 44.9779052734375, -93.09002685546875 44.95367431640625, -93.177978515625 45.056884765625, -93.2650146484375 44.9779052734375)))'"
      ]
     },
     "execution_count": 2,
     "metadata": {},
     "output_type": "execute_result"
    }
   ],
   "source": [
    "#import arcpy\n",
    "import arcpy\n",
    "\n",
    "#set spatial refrence to WGS 84\n",
    "spatial_reference = arcpy.SpatialReference(4326)\n",
    "\n",
    "#Create three points arond twin cities area\n",
    "point1 = arcpy.Point(-93.2650, 44.9778)\n",
    "point2 = arcpy.Point(-93.1780, 45.0569)\n",
    "point3 = arcpy.Point(-93.0900, 44.9537)\n",
    "\n",
    "#create a list out of points\n",
    "point_list = [point1, point2, point3]\n",
    "\n",
    "#turn list into arcpy array primitive\n",
    "array = arcpy.Array(point_list)\n",
    "\n",
    "#turn array into polygon\n",
    "polygon = arcpy.Polygon(array)\n",
    "\n",
    "#convert polygon to wkt form\n",
    "polygon_wkt = polygon.WKT\n",
    "polygon_wkt"
   ]
  },
  {
   "cell_type": "code",
   "execution_count": null,
   "metadata": {},
   "outputs": [],
   "source": [
    "#imports\n",
    "import psycopg2\n",
    "from psycopg2 import sql\n",
    "\n",
    "#Read password from a file (so .gitignore can hide it)\n",
    "with open(r'./PASS/database.txt', 'r') as file:\n",
    "    database_key = file.read().strip()\n",
    "\n",
    "#Database connection and information\n",
    "conn = psycopg2.connect(\n",
    "    dbname=\"gis5572\",\n",
    "    user=\"postgres\",\n",
    "    password=database_key,\n",
    "    host=\"35.188.97.184\",\n",
    "    port=\"5432\"\n",
    ")\n",
    "cur = conn.cursor()\n",
    "\n",
    "#Create a query to create a new database table\n",
    "##can only be run once, so commented out\n",
    "\n",
    "#query = sql.SQL(\"\"\"\n",
    "#    CREATE TABLE arclab1 (\n",
    "#    id SERIAL PRIMARY KEY,\n",
    "#    shape GEOMETRY(MultiPolygon, 4326)\n",
    "#    );\n",
    "#\"\"\")\n",
    "#cur.execute(query)\n",
    "#conn.commit()\n",
    "\n",
    "#insert into our table our polygon geometry\n",
    "insert_query = sql.SQL(\"\"\"\n",
    "    INSERT INTO arclab1 (shape)\n",
    "    VALUES (ST_GeomFromText(%s, 4326));\n",
    "\"\"\")\n",
    "cur.execute(insert_query, [polygon_wkt])\n",
    "conn.commit()\n",
    "cur.close()\n",
    "conn.close()"
   ]
  }
 ],
 "metadata": {
  "kernelspec": {
   "display_name": "ArcGISPro",
   "language": "Python",
   "name": "python3"
  },
  "language_info": {
   "file_extension": ".py",
   "name": "python",
   "version": "3"
  }
 },
 "nbformat": 4,
 "nbformat_minor": 2
}
