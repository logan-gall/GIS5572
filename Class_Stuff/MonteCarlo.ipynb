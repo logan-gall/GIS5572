{
 "cells": [
  {
   "cell_type": "code",
   "execution_count": 1,
   "metadata": {},
   "outputs": [],
   "source": [
    "import arcpy\n",
    "import numpy"
   ]
  },
  {
   "cell_type": "code",
   "execution_count": null,
   "metadata": {},
   "outputs": [],
   "source": [
    "#STEPS 1-2 of Activity\n",
    "#This creates a new feature class (shape file) to hold onto our new data points\n",
    "hundred_points = arcpy.management.CreateFeatureclass(\n",
    "    out_path=r\"C:\\Users\\Logan\\Documents\\ArcGIS\\Projects\\MyProject8\\MyProject8.gdb\",\n",
    "    out_name=\"hundred_points\",\n",
    "    geometry_type=\"POINT\",\n",
    "    template=None,\n",
    "    has_m=\"DISABLED\",\n",
    "    has_z=\"DISABLED\",\n",
    "    spatial_reference='PROJCS[\"WGS_1984_Web_Mercator_Auxiliary_Sphere\",GEOGCS[\"GCS_WGS_1984\",DATUM[\"D_WGS_1984\",SPHEROID[\"WGS_1984\",6378137.0,298.257223563]],PRIMEM[\"Greenwich\",0.0],UNIT[\"Degree\",0.0174532925199433]],PROJECTION[\"Mercator_Auxiliary_Sphere\"],PARAMETER[\"False_Easting\",0.0],PARAMETER[\"False_Northing\",0.0],PARAMETER[\"Central_Meridian\",0.0],PARAMETER[\"Standard_Parallel_1\",0.0],PARAMETER[\"Auxiliary_Sphere_Type\",0.0],UNIT[\"Meter\",1.0]];-20037700 -30241100 10000;-100000 10000;-100000 10000;0.001;0.001;0.001;IsHighPrecision',\n",
    "    config_keyword=\"\",\n",
    "    spatial_grid_1=0,\n",
    "    spatial_grid_2=0,\n",
    "    spatial_grid_3=0,\n",
    "    out_alias=\"\",\n",
    "    oid_type=\"SAME_AS_TEMPLATE\"\n",
    ")\n",
    "\n",
    "\n",
    "\n",
    "#Use arcpy cursor to be able to edit the shape file\n",
    "with arcpy.da.InsertCursor(hundred_points, [\"SHAPE@\"]) as cursor:\n",
    "    #loop 100 times (we create 100 point)\n",
    "    for i in range(100):\n",
    "        #FOR STEP 1: \n",
    "        #x = 0\n",
    "        #y = 0\n",
    "        \n",
    "        #FOR STEP 2:\n",
    "        #use numpy random to create a random number between 1 and 1000 (random X coordinate)\n",
    "        x = numpy.random.randint(1000)\n",
    "        #use numpy random to create a random number between 1 and 1000 (random y coordinate)\n",
    "        y = numpy.random.randint(1000)\n",
    "        \n",
    "        #Create an arcpy Point out of the x and y coordinate\n",
    "        point = arcpy.Point(x, y)\n",
    "        # Create a point geometry object\n",
    "        pointGeometry = arcpy.PointGeometry(point, spatial_reference='PROJCS[\"WGS_1984_Web_Mercator_Auxiliary_Sphere\",GEOGCS[\"GCS_WGS_1984\",DATUM[\"D_WGS_1984\",SPHEROID[\"WGS_1984\",6378137.0,298.257223563]],PRIMEM[\"Greenwich\",0.0],UNIT[\"Degree\",0.0174532925199433]],PROJECTION[\"Mercator_Auxiliary_Sphere\"],PARAMETER[\"False_Easting\",0.0],PARAMETER[\"False_Northing\",0.0],PARAMETER[\"Central_Meridian\",0.0],PARAMETER[\"Standard_Parallel_1\",0.0],PARAMETER[\"Auxiliary_Sphere_Type\",0.0],UNIT[\"Meter\",1.0]];-20037700 -30241100 10000;-100000 10000;-100000 10000;0.001;0.001;0.001;IsHighPrecision',)\n",
    "        #insert the new point into the shape file\n",
    "        cursor.insertRow([pointGeometry])\n",
    "        #Now repeat 100 times for the 100 points"
   ]
  },
  {
   "cell_type": "code",
   "execution_count": 25,
   "metadata": {},
   "outputs": [
    {
     "name": "stdout",
     "output_type": "stream",
     "text": [
      "100 points created successfully.\n"
     ]
    }
   ],
   "source": [
    "#STEPS 3-6 of activity\n",
    "#This creates a new feature class (shape file) to hold onto polyline data\n",
    "hundred_polyline = arcpy.management.CreateFeatureclass(\n",
    "    out_path=r\"C:\\Users\\Logan\\Documents\\ArcGIS\\Projects\\MyProject8\\MyProject8.gdb\",\n",
    "    out_name=\"hundred_polyline\",\n",
    "    geometry_type=\"POLYLINE\",\n",
    "    template=None,\n",
    "    has_m=\"DISABLED\",\n",
    "    has_z=\"DISABLED\",\n",
    "    spatial_reference='PROJCS[\"WGS_1984_Web_Mercator_Auxiliary_Sphere\",GEOGCS[\"GCS_WGS_1984\",DATUM[\"D_WGS_1984\",SPHEROID[\"WGS_1984\",6378137.0,298.257223563]],PRIMEM[\"Greenwich\",0.0],UNIT[\"Degree\",0.0174532925199433]],PROJECTION[\"Mercator_Auxiliary_Sphere\"],PARAMETER[\"False_Easting\",0.0],PARAMETER[\"False_Northing\",0.0],PARAMETER[\"Central_Meridian\",0.0],PARAMETER[\"Standard_Parallel_1\",0.0],PARAMETER[\"Auxiliary_Sphere_Type\",0.0],UNIT[\"Meter\",1.0]];-20037700 -30241100 10000;-100000 10000;-100000 10000;0.001;0.001;0.001;IsHighPrecision',\n",
    "    config_keyword=\"\",\n",
    "    spatial_grid_1=0,\n",
    "    spatial_grid_2=0,\n",
    "    spatial_grid_3=0,\n",
    "    out_alias=\"\",\n",
    "    oid_type=\"SAME_AS_TEMPLATE\"\n",
    ")\n",
    "\n",
    "#Use arcpy cursor to be able to edit the shape file\n",
    "with arcpy.da.InsertCursor(hundred_polyline, [\"SHAPE@\"]) as cursor:\n",
    "    for i in range(100): #Step 5 added this for loop to repeat 100 times (create 100 points)\n",
    "        #STEP 3: Create points that move NW\n",
    "        #Create a point at (0, 0)\n",
    "        x = 0\n",
    "        y = 0\n",
    "        #Convert x and y to arc point\n",
    "        point = arcpy.Point(x, y)\n",
    "        #This is an empty list to store location of point as it travels NW\n",
    "        store_point_location = []\n",
    "        #Add starting location\n",
    "        store_point_location.append(point)\n",
    "        \n",
    "        #Travel NW for 100 steps\n",
    "        for j in range(100):\n",
    "            #Move X coordinate West by a random amount (1-10000 units)\n",
    "            x = x - numpy.random.randint(10000)\n",
    "            #Move Y coordinate North by a random amount (1-10000 units)\n",
    "            y = y + numpy.random.randint(10000)\n",
    "            #Create a new point at the new location\n",
    "            point = arcpy.Point(x, y)\n",
    "            #Store new point location next to our old locations\n",
    "            store_point_location.append(point)\n",
    "        \n",
    "        #STEP 4: use polyline instead of points\n",
    "        #Convert Python list to arc Array\n",
    "        point_array = arcpy.Array(store_point_location)\n",
    "        #Once we move 100 steps, link them together into a polyline\n",
    "        point_polyline = arcpy.Polyline(point_array)\n",
    "        #Add the polyline into our shape file\n",
    "        cursor.insertRow([point_polyline])\n",
    "    \n",
    "print(\"100 polylines created successfully.\")"
   ]
  },
  {
   "cell_type": "code",
   "execution_count": 26,
   "metadata": {},
   "outputs": [
    {
     "data": {
      "text/html": [
       "<div class='gpresult'><h2>Messages</h2><div id='messages' data-messages='[\"Start Time: Thursday, March 28, 2024 7:43:28 PM\",\"Succeeded at Thursday, March 28, 2024 7:43:36 PM (Elapsed Time: 8.42 seconds)\"]' data-show='true'><div id = 'default' /></div></div>"
      ],
      "text/plain": [
       "<Result 'C:\\\\Users\\\\Logan\\\\Documents\\\\ArcGIS\\\\Projects\\\\MyProject8\\\\MyProject8.gdb\\\\hundred_polyline_DirectionalMean'>"
      ]
     },
     "execution_count": 26,
     "metadata": {},
     "output_type": "execute_result"
    }
   ],
   "source": [
    "#Step 6: Calculate directional mean\n",
    "arcpy.stats.DirectionalMean(\n",
    "    Input_Feature_Class=\"hundred_polyline\",\n",
    "    Output_Feature_Class=r\"C:\\Users\\Logan\\Documents\\ArcGIS\\Projects\\MyProject8\\MyProject8.gdb\\hundred_polyline_DirectionalMean\",\n",
    "    Orientation_Only=\"DIRECTION\",\n",
    "    Case_Field=None\n",
    ")"
   ]
  },
  {
   "cell_type": "code",
   "execution_count": null,
   "metadata": {},
   "outputs": [],
   "source": []
  }
 ],
 "metadata": {
  "kernelspec": {
   "display_name": "ArcGISPro",
   "language": "Python",
   "name": "python3"
  },
  "language_info": {
   "file_extension": ".py",
   "name": "python",
   "version": "3"
  }
 },
 "nbformat": 4,
 "nbformat_minor": 2
}
