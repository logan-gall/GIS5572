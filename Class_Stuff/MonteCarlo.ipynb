{
 "cells": [
  {
   "cell_type": "code",
   "execution_count": 1,
   "metadata": {},
   "outputs": [],
   "source": [
    "import arcpy\n",
    "import numpy"
   ]
  },
  {
   "cell_type": "code",
   "execution_count": null,
   "metadata": {},
   "outputs": [],
   "source": [
    "hundred_points = arcpy.management.CreateFeatureclass(\n",
    "    out_path=r\"C:\\Users\\Logan\\Documents\\ArcGIS\\Projects\\MyProject8\\MyProject8.gdb\",\n",
    "    out_name=\"hundred_points\",\n",
    "    geometry_type=\"POINT\",\n",
    "    template=None,\n",
    "    has_m=\"DISABLED\",\n",
    "    has_z=\"DISABLED\",\n",
    "    spatial_reference='PROJCS[\"WGS_1984_Web_Mercator_Auxiliary_Sphere\",GEOGCS[\"GCS_WGS_1984\",DATUM[\"D_WGS_1984\",SPHEROID[\"WGS_1984\",6378137.0,298.257223563]],PRIMEM[\"Greenwich\",0.0],UNIT[\"Degree\",0.0174532925199433]],PROJECTION[\"Mercator_Auxiliary_Sphere\"],PARAMETER[\"False_Easting\",0.0],PARAMETER[\"False_Northing\",0.0],PARAMETER[\"Central_Meridian\",0.0],PARAMETER[\"Standard_Parallel_1\",0.0],PARAMETER[\"Auxiliary_Sphere_Type\",0.0],UNIT[\"Meter\",1.0]];-20037700 -30241100 10000;-100000 10000;-100000 10000;0.001;0.001;0.001;IsHighPrecision',\n",
    "    config_keyword=\"\",\n",
    "    spatial_grid_1=0,\n",
    "    spatial_grid_2=0,\n",
    "    spatial_grid_3=0,\n",
    "    out_alias=\"\",\n",
    "    oid_type=\"SAME_AS_TEMPLATE\"\n",
    ")\n",
    "\n",
    "# Create an insert cursor for the new feature class\n",
    "# Note: \"SHAPE@\" token is used to refer to the geometry field in a feature class\n",
    "with arcpy.da.InsertCursor(hundred_points, [\"SHAPE@\"]) as cursor:\n",
    "    for _ in range(100):  # Loop 100 times to create 100 points\n",
    "        # Create a point object\n",
    "        x = numpy.random.randint(1000)\n",
    "        y = numpy.random.randint(1000)\n",
    "        point = arcpy.Point(x, y)\n",
    "        # Create a point geometry object\n",
    "        pointGeometry = arcpy.PointGeometry(point, spatial_reference='PROJCS[\"WGS_1984_Web_Mercator_Auxiliary_Sphere\",GEOGCS[\"GCS_WGS_1984\",DATUM[\"D_WGS_1984\",SPHEROID[\"WGS_1984\",6378137.0,298.257223563]],PRIMEM[\"Greenwich\",0.0],UNIT[\"Degree\",0.0174532925199433]],PROJECTION[\"Mercator_Auxiliary_Sphere\"],PARAMETER[\"False_Easting\",0.0],PARAMETER[\"False_Northing\",0.0],PARAMETER[\"Central_Meridian\",0.0],PARAMETER[\"Standard_Parallel_1\",0.0],PARAMETER[\"Auxiliary_Sphere_Type\",0.0],UNIT[\"Meter\",1.0]];-20037700 -30241100 10000;-100000 10000;-100000 10000;0.001;0.001;0.001;IsHighPrecision',)\n",
    "        # Insert the new point into the feature class\n",
    "        cursor.insertRow([pointGeometry])"
   ]
  },
  {
   "cell_type": "code",
   "execution_count": 25,
   "metadata": {},
   "outputs": [
    {
     "name": "stdout",
     "output_type": "stream",
     "text": [
      "100 points created successfully.\n"
     ]
    }
   ],
   "source": [
    "hundred_polyline = arcpy.management.CreateFeatureclass(\n",
    "    out_path=r\"C:\\Users\\Logan\\Documents\\ArcGIS\\Projects\\MyProject8\\MyProject8.gdb\",\n",
    "    out_name=\"hundred_polyline\",\n",
    "    geometry_type=\"POLYLINE\",\n",
    "    template=None,\n",
    "    has_m=\"DISABLED\",\n",
    "    has_z=\"DISABLED\",\n",
    "    spatial_reference='PROJCS[\"WGS_1984_Web_Mercator_Auxiliary_Sphere\",GEOGCS[\"GCS_WGS_1984\",DATUM[\"D_WGS_1984\",SPHEROID[\"WGS_1984\",6378137.0,298.257223563]],PRIMEM[\"Greenwich\",0.0],UNIT[\"Degree\",0.0174532925199433]],PROJECTION[\"Mercator_Auxiliary_Sphere\"],PARAMETER[\"False_Easting\",0.0],PARAMETER[\"False_Northing\",0.0],PARAMETER[\"Central_Meridian\",0.0],PARAMETER[\"Standard_Parallel_1\",0.0],PARAMETER[\"Auxiliary_Sphere_Type\",0.0],UNIT[\"Meter\",1.0]];-20037700 -30241100 10000;-100000 10000;-100000 10000;0.001;0.001;0.001;IsHighPrecision',\n",
    "    config_keyword=\"\",\n",
    "    spatial_grid_1=0,\n",
    "    spatial_grid_2=0,\n",
    "    spatial_grid_3=0,\n",
    "    out_alias=\"\",\n",
    "    oid_type=\"SAME_AS_TEMPLATE\"\n",
    ")\n",
    "\n",
    "with arcpy.da.InsertCursor(hundred_polyline, [\"SHAPE@\"]) as cursor:\n",
    "    for i in range(100):\n",
    "        x = 0\n",
    "        y = 0\n",
    "        point = arcpy.Point(x, y)\n",
    "        store_point_location = []\n",
    "        store_point_location.append(point)\n",
    "        \n",
    "\n",
    "        for j in range(100):\n",
    "            x = x - numpy.random.randint(10000)\n",
    "            y = y + numpy.random.randint(10000)\n",
    "            point = arcpy.Point(x, y)\n",
    "            store_point_location.append(point)\n",
    "\n",
    "        point_array = arcpy.Array(store_point_location)\n",
    "        point_polyline = arcpy.Polyline(point_array)\n",
    "        cursor.insertRow([point_polyline])\n",
    "    \n",
    "print(\"100 points created successfully.\")"
   ]
  },
  {
   "cell_type": "code",
   "execution_count": 26,
   "metadata": {},
   "outputs": [
    {
     "data": {
      "text/html": [
       "<div class='gpresult'><h2>Messages</h2><div id='messages' data-messages='[\"Start Time: Thursday, March 28, 2024 7:43:28 PM\",\"Succeeded at Thursday, March 28, 2024 7:43:36 PM (Elapsed Time: 8.42 seconds)\"]' data-show='true'><div id = 'default' /></div></div>"
      ],
      "text/plain": [
       "<Result 'C:\\\\Users\\\\Logan\\\\Documents\\\\ArcGIS\\\\Projects\\\\MyProject8\\\\MyProject8.gdb\\\\hundred_polyline_DirectionalMean'>"
      ]
     },
     "execution_count": 26,
     "metadata": {},
     "output_type": "execute_result"
    }
   ],
   "source": [
    "arcpy.stats.DirectionalMean(\n",
    "    Input_Feature_Class=\"hundred_polyline\",\n",
    "    Output_Feature_Class=r\"C:\\Users\\Logan\\Documents\\ArcGIS\\Projects\\MyProject8\\MyProject8.gdb\\hundred_polyline_DirectionalMean\",\n",
    "    Orientation_Only=\"DIRECTION\",\n",
    "    Case_Field=None\n",
    ")"
   ]
  },
  {
   "cell_type": "code",
   "execution_count": null,
   "metadata": {},
   "outputs": [],
   "source": []
  }
 ],
 "metadata": {
  "kernelspec": {
   "display_name": "ArcGISPro",
   "language": "Python",
   "name": "python3"
  },
  "language_info": {
   "file_extension": ".py",
   "name": "python",
   "version": "3"
  }
 },
 "nbformat": 4,
 "nbformat_minor": 2
}
